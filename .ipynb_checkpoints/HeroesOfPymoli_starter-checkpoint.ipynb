{
 "cells": [
  {
   "cell_type": "markdown",
   "metadata": {},
   "source": [
    "### Heroes Of Pymoli Data Analysis\n",
    "* Of the 1163 active players, the vast majority are male (84%). There also exists, a smaller, but notable proportion of female players (14%).\n",
    "\n",
    "* Our peak age demographic falls between 20-24 (44.8%) with secondary groups falling between 15-19 (18.60%) and 25-29 (13.4%).  \n",
    "-----"
   ]
  },
  {
   "cell_type": "markdown",
   "metadata": {},
   "source": [
    "### Note\n",
    "* Instructions have been included for each segment. You do not have to follow them exactly, but they are included to help you think through the steps."
   ]
  },
  {
   "cell_type": "code",
   "execution_count": 20,
   "metadata": {},
   "outputs": [
    {
     "data": {
      "text/html": [
       "<div>\n",
       "<style scoped>\n",
       "    .dataframe tbody tr th:only-of-type {\n",
       "        vertical-align: middle;\n",
       "    }\n",
       "\n",
       "    .dataframe tbody tr th {\n",
       "        vertical-align: top;\n",
       "    }\n",
       "\n",
       "    .dataframe thead th {\n",
       "        text-align: right;\n",
       "    }\n",
       "</style>\n",
       "<table border=\"1\" class=\"dataframe\">\n",
       "  <thead>\n",
       "    <tr style=\"text-align: right;\">\n",
       "      <th></th>\n",
       "      <th>Purchase ID</th>\n",
       "      <th>SN</th>\n",
       "      <th>Age</th>\n",
       "      <th>Gender</th>\n",
       "      <th>Item ID</th>\n",
       "      <th>Item Name</th>\n",
       "      <th>Price</th>\n",
       "    </tr>\n",
       "  </thead>\n",
       "  <tbody>\n",
       "    <tr>\n",
       "      <th>0</th>\n",
       "      <td>0</td>\n",
       "      <td>Lisim78</td>\n",
       "      <td>20</td>\n",
       "      <td>Male</td>\n",
       "      <td>108</td>\n",
       "      <td>Extraction, Quickblade Of Trembling Hands</td>\n",
       "      <td>3.53</td>\n",
       "    </tr>\n",
       "    <tr>\n",
       "      <th>1</th>\n",
       "      <td>1</td>\n",
       "      <td>Lisovynya38</td>\n",
       "      <td>40</td>\n",
       "      <td>Male</td>\n",
       "      <td>143</td>\n",
       "      <td>Frenzied Scimitar</td>\n",
       "      <td>1.56</td>\n",
       "    </tr>\n",
       "    <tr>\n",
       "      <th>2</th>\n",
       "      <td>2</td>\n",
       "      <td>Ithergue48</td>\n",
       "      <td>24</td>\n",
       "      <td>Male</td>\n",
       "      <td>92</td>\n",
       "      <td>Final Critic</td>\n",
       "      <td>4.88</td>\n",
       "    </tr>\n",
       "    <tr>\n",
       "      <th>3</th>\n",
       "      <td>3</td>\n",
       "      <td>Chamassasya86</td>\n",
       "      <td>24</td>\n",
       "      <td>Male</td>\n",
       "      <td>100</td>\n",
       "      <td>Blindscythe</td>\n",
       "      <td>3.27</td>\n",
       "    </tr>\n",
       "    <tr>\n",
       "      <th>4</th>\n",
       "      <td>4</td>\n",
       "      <td>Iskosia90</td>\n",
       "      <td>23</td>\n",
       "      <td>Male</td>\n",
       "      <td>131</td>\n",
       "      <td>Fury</td>\n",
       "      <td>1.44</td>\n",
       "    </tr>\n",
       "  </tbody>\n",
       "</table>\n",
       "</div>"
      ],
      "text/plain": [
       "   Purchase ID             SN  Age Gender  Item ID  \\\n",
       "0            0        Lisim78   20   Male      108   \n",
       "1            1    Lisovynya38   40   Male      143   \n",
       "2            2     Ithergue48   24   Male       92   \n",
       "3            3  Chamassasya86   24   Male      100   \n",
       "4            4      Iskosia90   23   Male      131   \n",
       "\n",
       "                                   Item Name  Price  \n",
       "0  Extraction, Quickblade Of Trembling Hands   3.53  \n",
       "1                          Frenzied Scimitar   1.56  \n",
       "2                               Final Critic   4.88  \n",
       "3                                Blindscythe   3.27  \n",
       "4                                       Fury   1.44  "
      ]
     },
     "execution_count": 20,
     "metadata": {},
     "output_type": "execute_result"
    }
   ],
   "source": [
    "# Dependencies and Setup\n",
    "import pandas as pd\n",
    "import numpy as np\n",
    "\n",
    "# File to Load (Remember to Change These)\n",
    "file_to_load = \"Resources/purchase_data.csv\"\n",
    "\n",
    "# Read Purchasing File and store into Pandas data frame\n",
    "purchase_data = pd.read_csv(file_to_load)\n",
    "pd.to_numeric(purchase_data[\"Age\"])\n",
    "purchase_data.head()"
   ]
  },
  {
   "cell_type": "markdown",
   "metadata": {},
   "source": [
    "## Player Count"
   ]
  },
  {
   "cell_type": "markdown",
   "metadata": {},
   "source": [
    "* Display the total number of players\n"
   ]
  },
  {
   "cell_type": "code",
   "execution_count": 21,
   "metadata": {},
   "outputs": [
    {
     "data": {
      "text/plain": [
       "576"
      ]
     },
     "execution_count": 21,
     "metadata": {},
     "output_type": "execute_result"
    }
   ],
   "source": [
    "Total_Players = purchase_data[\"SN\"].nunique()\n",
    "Total_Players"
   ]
  },
  {
   "cell_type": "markdown",
   "metadata": {},
   "source": [
    "## Purchasing Analysis (Total)"
   ]
  },
  {
   "cell_type": "markdown",
   "metadata": {},
   "source": [
    "* Run basic calculations to obtain number of unique items, average price, etc.\n",
    "\n",
    "\n",
    "* Create a summary data frame to hold the results\n",
    "\n",
    "\n",
    "* Optional: give the displayed data cleaner formatting\n",
    "\n",
    "\n",
    "* Display the summary data frame\n"
   ]
  },
  {
   "cell_type": "code",
   "execution_count": 22,
   "metadata": {
    "scrolled": true
   },
   "outputs": [],
   "source": [
    "Unique_Items = purchase_data[\"Item ID\"].nunique()\n",
    "Avg_Price = round(purchase_data['Price'].mean(), 2)\n",
    "Total_Purchases = purchase_data[\"Purchase ID\"].count()\n",
    "Total_Revenue = purchase_data[\"Price\"].sum()\n"
   ]
  },
  {
   "cell_type": "code",
   "execution_count": 23,
   "metadata": {},
   "outputs": [
    {
     "data": {
      "text/html": [
       "<div>\n",
       "<style scoped>\n",
       "    .dataframe tbody tr th:only-of-type {\n",
       "        vertical-align: middle;\n",
       "    }\n",
       "\n",
       "    .dataframe tbody tr th {\n",
       "        vertical-align: top;\n",
       "    }\n",
       "\n",
       "    .dataframe thead th {\n",
       "        text-align: right;\n",
       "    }\n",
       "</style>\n",
       "<table border=\"1\" class=\"dataframe\">\n",
       "  <thead>\n",
       "    <tr style=\"text-align: right;\">\n",
       "      <th></th>\n",
       "      <th>Unique Items</th>\n",
       "      <th>Avg Price</th>\n",
       "      <th>Total Purchases</th>\n",
       "      <th>Total Revenue</th>\n",
       "    </tr>\n",
       "  </thead>\n",
       "  <tbody>\n",
       "    <tr>\n",
       "      <th>0</th>\n",
       "      <td>183</td>\n",
       "      <td>3.05</td>\n",
       "      <td>780</td>\n",
       "      <td>2379.77</td>\n",
       "    </tr>\n",
       "  </tbody>\n",
       "</table>\n",
       "</div>"
      ],
      "text/plain": [
       "   Unique Items  Avg Price  Total Purchases  Total Revenue\n",
       "0           183       3.05              780        2379.77"
      ]
     },
     "execution_count": 23,
     "metadata": {},
     "output_type": "execute_result"
    }
   ],
   "source": [
    "df = [(Unique_Items, Avg_Price, Total_Purchases, Total_Revenue)]\n",
    "\n",
    "Purchasing_Analysis = pd.DataFrame(df, columns=['Unique Items', 'Avg Price', 'Total Purchases', 'Total Revenue'])\n",
    "Purchasing_Analysis\n"
   ]
  },
  {
   "cell_type": "markdown",
   "metadata": {},
   "source": [
    "## Gender Demographics"
   ]
  },
  {
   "cell_type": "markdown",
   "metadata": {},
   "source": [
    "* Percentage and Count of Male Players\n",
    "\n",
    "\n",
    "* Percentage and Count of Female Players\n",
    "\n",
    "\n",
    "* Percentage and Count of Other / Non-Disclosed\n",
    "\n",
    "\n"
   ]
  },
  {
   "cell_type": "code",
   "execution_count": 24,
   "metadata": {},
   "outputs": [],
   "source": [
    "gender_df = purchase_data[\"Gender\"].value_counts()\n",
    "\n",
    "Gender_count = pd.DataFrame(gender_df)\n",
    "Gender_count.index.name = \"Gender1\""
   ]
  },
  {
   "cell_type": "code",
   "execution_count": 25,
   "metadata": {},
   "outputs": [],
   "source": [
    "Gender_ratio = Gender_count/Total_Purchases\n",
    "Gender_Percentage = round(Gender_ratio*100, 2)"
   ]
  },
  {
   "cell_type": "code",
   "execution_count": 26,
   "metadata": {},
   "outputs": [
    {
     "data": {
      "text/html": [
       "<div>\n",
       "<style scoped>\n",
       "    .dataframe tbody tr th:only-of-type {\n",
       "        vertical-align: middle;\n",
       "    }\n",
       "\n",
       "    .dataframe tbody tr th {\n",
       "        vertical-align: top;\n",
       "    }\n",
       "\n",
       "    .dataframe thead th {\n",
       "        text-align: right;\n",
       "    }\n",
       "</style>\n",
       "<table border=\"1\" class=\"dataframe\">\n",
       "  <thead>\n",
       "    <tr style=\"text-align: right;\">\n",
       "      <th></th>\n",
       "      <th>Gender Count</th>\n",
       "      <th>Gender Percentage</th>\n",
       "    </tr>\n",
       "    <tr>\n",
       "      <th>Gender</th>\n",
       "      <th></th>\n",
       "      <th></th>\n",
       "    </tr>\n",
       "  </thead>\n",
       "  <tbody>\n",
       "    <tr>\n",
       "      <th>Male</th>\n",
       "      <td>652</td>\n",
       "      <td>83.59</td>\n",
       "    </tr>\n",
       "    <tr>\n",
       "      <th>Female</th>\n",
       "      <td>113</td>\n",
       "      <td>14.49</td>\n",
       "    </tr>\n",
       "    <tr>\n",
       "      <th>Other / Non-Disclosed</th>\n",
       "      <td>15</td>\n",
       "      <td>1.92</td>\n",
       "    </tr>\n",
       "  </tbody>\n",
       "</table>\n",
       "</div>"
      ],
      "text/plain": [
       "                       Gender Count  Gender Percentage\n",
       "Gender                                                \n",
       "Male                            652              83.59\n",
       "Female                          113              14.49\n",
       "Other / Non-Disclosed            15               1.92"
      ]
     },
     "execution_count": 26,
     "metadata": {},
     "output_type": "execute_result"
    }
   ],
   "source": [
    "merged_Demo = pd.merge(Gender_count, Gender_Percentage, on=\"Gender1\")\n",
    "merged_Demo.rename(columns={'Gender_x':'Gender Count',\n",
    "                          'Gender_y':'Gender Percentage'}, inplace=True)\n",
    "merged_Demo.index.name = \"Gender\"\n",
    "\n",
    "merged_Demo"
   ]
  },
  {
   "cell_type": "markdown",
   "metadata": {},
   "source": [
    "\n",
    "## Purchasing Analysis (Gender)"
   ]
  },
  {
   "cell_type": "markdown",
   "metadata": {},
   "source": [
    "* Run basic calculations to obtain purchase count, avg. purchase price, avg. purchase total per person etc. by gender\n",
    "\n",
    "\n",
    "\n",
    "\n",
    "* Create a summary data frame to hold the results\n",
    "\n",
    "\n",
    "* Optional: give the displayed data cleaner formatting\n",
    "\n",
    "\n",
    "* Display the summary data frame"
   ]
  },
  {
   "cell_type": "code",
   "execution_count": 27,
   "metadata": {},
   "outputs": [],
   "source": [
    "gender_spend = purchase_data.groupby(\"Gender\")\n",
    "Total_spent_gender = gender_spend[\"Price\"].sum()"
   ]
  },
  {
   "cell_type": "code",
   "execution_count": 28,
   "metadata": {},
   "outputs": [
    {
     "data": {
      "text/html": [
       "<div>\n",
       "<style scoped>\n",
       "    .dataframe tbody tr th:only-of-type {\n",
       "        vertical-align: middle;\n",
       "    }\n",
       "\n",
       "    .dataframe tbody tr th {\n",
       "        vertical-align: top;\n",
       "    }\n",
       "\n",
       "    .dataframe thead th {\n",
       "        text-align: right;\n",
       "    }\n",
       "</style>\n",
       "<table border=\"1\" class=\"dataframe\">\n",
       "  <thead>\n",
       "    <tr style=\"text-align: right;\">\n",
       "      <th></th>\n",
       "      <th>Gender Count</th>\n",
       "      <th>Gender Percentage</th>\n",
       "      <th>Price</th>\n",
       "    </tr>\n",
       "    <tr>\n",
       "      <th>Gender</th>\n",
       "      <th></th>\n",
       "      <th></th>\n",
       "      <th></th>\n",
       "    </tr>\n",
       "  </thead>\n",
       "  <tbody>\n",
       "    <tr>\n",
       "      <th>Male</th>\n",
       "      <td>652</td>\n",
       "      <td>83.59</td>\n",
       "      <td>1967.64</td>\n",
       "    </tr>\n",
       "    <tr>\n",
       "      <th>Female</th>\n",
       "      <td>113</td>\n",
       "      <td>14.49</td>\n",
       "      <td>361.94</td>\n",
       "    </tr>\n",
       "    <tr>\n",
       "      <th>Other / Non-Disclosed</th>\n",
       "      <td>15</td>\n",
       "      <td>1.92</td>\n",
       "      <td>50.19</td>\n",
       "    </tr>\n",
       "  </tbody>\n",
       "</table>\n",
       "</div>"
      ],
      "text/plain": [
       "                       Gender Count  Gender Percentage    Price\n",
       "Gender                                                         \n",
       "Male                            652              83.59  1967.64\n",
       "Female                          113              14.49   361.94\n",
       "Other / Non-Disclosed            15               1.92    50.19"
      ]
     },
     "execution_count": 28,
     "metadata": {},
     "output_type": "execute_result"
    }
   ],
   "source": [
    "Purchasing_Analysis = pd.merge(merged_Demo, Total_spent_gender, on=\"Gender\")\n",
    "Purchasing_Analysis"
   ]
  },
  {
   "cell_type": "code",
   "execution_count": 29,
   "metadata": {},
   "outputs": [
    {
     "data": {
      "text/plain": [
       "Gender\n",
       "Male                     3.02\n",
       "Female                   3.20\n",
       "Other / Non-Disclosed    3.35\n",
       "dtype: float64"
      ]
     },
     "execution_count": 29,
     "metadata": {},
     "output_type": "execute_result"
    }
   ],
   "source": [
    "Avg_purchase_price = round(Purchasing_Analysis[\"Price\"]/Purchasing_Analysis[\"Gender Count\"], 2)\n",
    "Avg_purchase_price"
   ]
  },
  {
   "cell_type": "markdown",
   "metadata": {},
   "source": [
    "## Age Demographics"
   ]
  },
  {
   "cell_type": "markdown",
   "metadata": {},
   "source": [
    "* Establish bins for ages\n",
    "\n",
    "\n",
    "* Categorize the existing players using the age bins. Hint: use pd.cut()\n",
    "\n",
    "\n",
    "* Calculate the numbers and percentages by age group\n",
    "\n",
    "\n",
    "* Create a summary data frame to hold the results\n",
    "\n",
    "\n",
    "* Optional: round the percentage column to two decimal points\n",
    "\n",
    "\n",
    "* Display Age Demographics Table\n"
   ]
  },
  {
   "cell_type": "code",
   "execution_count": 30,
   "metadata": {},
   "outputs": [
    {
     "data": {
      "text/html": [
       "<style  type=\"text/css\" >\n",
       "</style><table id=\"T_36335192_9056_11e9_a518_74e5f9de7bdb\" ><thead>    <tr>        <th class=\"blank level0\" ></th>        <th class=\"col_heading level0 col0\" >Percentage of Players</th>        <th class=\"col_heading level0 col1\" >Total Count</th>    </tr></thead><tbody>\n",
       "                <tr>\n",
       "                        <th id=\"T_36335192_9056_11e9_a518_74e5f9de7bdblevel0_row0\" class=\"row_heading level0 row0\" ><10</th>\n",
       "                        <td id=\"T_36335192_9056_11e9_a518_74e5f9de7bdbrow0_col0\" class=\"data row0 col0\" >2.95</td>\n",
       "                        <td id=\"T_36335192_9056_11e9_a518_74e5f9de7bdbrow0_col1\" class=\"data row0 col1\" >17</td>\n",
       "            </tr>\n",
       "            <tr>\n",
       "                        <th id=\"T_36335192_9056_11e9_a518_74e5f9de7bdblevel0_row1\" class=\"row_heading level0 row1\" >11-14</th>\n",
       "                        <td id=\"T_36335192_9056_11e9_a518_74e5f9de7bdbrow1_col0\" class=\"data row1 col0\" >3.82</td>\n",
       "                        <td id=\"T_36335192_9056_11e9_a518_74e5f9de7bdbrow1_col1\" class=\"data row1 col1\" >22</td>\n",
       "            </tr>\n",
       "            <tr>\n",
       "                        <th id=\"T_36335192_9056_11e9_a518_74e5f9de7bdblevel0_row2\" class=\"row_heading level0 row2\" >15-19</th>\n",
       "                        <td id=\"T_36335192_9056_11e9_a518_74e5f9de7bdbrow2_col0\" class=\"data row2 col0\" >18.58</td>\n",
       "                        <td id=\"T_36335192_9056_11e9_a518_74e5f9de7bdbrow2_col1\" class=\"data row2 col1\" >107</td>\n",
       "            </tr>\n",
       "            <tr>\n",
       "                        <th id=\"T_36335192_9056_11e9_a518_74e5f9de7bdblevel0_row3\" class=\"row_heading level0 row3\" >20-24</th>\n",
       "                        <td id=\"T_36335192_9056_11e9_a518_74e5f9de7bdbrow3_col0\" class=\"data row3 col0\" >44.79</td>\n",
       "                        <td id=\"T_36335192_9056_11e9_a518_74e5f9de7bdbrow3_col1\" class=\"data row3 col1\" >258</td>\n",
       "            </tr>\n",
       "            <tr>\n",
       "                        <th id=\"T_36335192_9056_11e9_a518_74e5f9de7bdblevel0_row4\" class=\"row_heading level0 row4\" >25-29</th>\n",
       "                        <td id=\"T_36335192_9056_11e9_a518_74e5f9de7bdbrow4_col0\" class=\"data row4 col0\" >13.37</td>\n",
       "                        <td id=\"T_36335192_9056_11e9_a518_74e5f9de7bdbrow4_col1\" class=\"data row4 col1\" >77</td>\n",
       "            </tr>\n",
       "            <tr>\n",
       "                        <th id=\"T_36335192_9056_11e9_a518_74e5f9de7bdblevel0_row5\" class=\"row_heading level0 row5\" >30-34</th>\n",
       "                        <td id=\"T_36335192_9056_11e9_a518_74e5f9de7bdbrow5_col0\" class=\"data row5 col0\" >9.03</td>\n",
       "                        <td id=\"T_36335192_9056_11e9_a518_74e5f9de7bdbrow5_col1\" class=\"data row5 col1\" >52</td>\n",
       "            </tr>\n",
       "            <tr>\n",
       "                        <th id=\"T_36335192_9056_11e9_a518_74e5f9de7bdblevel0_row6\" class=\"row_heading level0 row6\" >35-39</th>\n",
       "                        <td id=\"T_36335192_9056_11e9_a518_74e5f9de7bdbrow6_col0\" class=\"data row6 col0\" >5.38</td>\n",
       "                        <td id=\"T_36335192_9056_11e9_a518_74e5f9de7bdbrow6_col1\" class=\"data row6 col1\" >31</td>\n",
       "            </tr>\n",
       "            <tr>\n",
       "                        <th id=\"T_36335192_9056_11e9_a518_74e5f9de7bdblevel0_row7\" class=\"row_heading level0 row7\" >40+</th>\n",
       "                        <td id=\"T_36335192_9056_11e9_a518_74e5f9de7bdbrow7_col0\" class=\"data row7 col0\" >2.08</td>\n",
       "                        <td id=\"T_36335192_9056_11e9_a518_74e5f9de7bdbrow7_col1\" class=\"data row7 col1\" >12</td>\n",
       "            </tr>\n",
       "    </tbody></table>"
      ],
      "text/plain": [
       "<pandas.io.formats.style.Styler at 0x1c98f20b940>"
      ]
     },
     "execution_count": 30,
     "metadata": {},
     "output_type": "execute_result"
    }
   ],
   "source": [
    "bins = [0, 9.99, 14.99, 19.99, 24.99, 29.99, 34.99, 39.99, 99.99]\n",
    "\n",
    "# Create the names for the four bins\n",
    "group_names = [\"<10\", \"11-14\", \"15-19\", \"20-24\", \"25-29\", \"30-34\", \"35-39\", \"40+\"]\n",
    "\n",
    "purchase_data[\"Age Demo\"] = pd.cut(purchase_data[\"Age\"], bins, labels=group_names)\n",
    "purchase_data\n",
    "\n",
    "# Create new data frame with the added \"Age Group\" and group it\n",
    "age_grouped = purchase_data.groupby(\"Age Demo\")\n",
    "\n",
    "# Count total players by age category\n",
    "total_count_age = age_grouped[\"SN\"].nunique()\n",
    "\n",
    "# Calculate percentages by age category \n",
    "percentage_by_age = (total_count_age/Total_Players) * 100\n",
    "\n",
    "# Create data frame with obtained values\n",
    "age_demographics = pd.DataFrame({\"Percentage of Players\": percentage_by_age, \"Total Count\": total_count_age})\n",
    "\n",
    "# Format the data frame with no index name in the corner\n",
    "age_demographics.index.name = None\n",
    "\n",
    "# Format percentage with two decimal places \n",
    "age_demographics.style.format({\"Percentage of Players\":\"{:,.2f}\"})"
   ]
  },
  {
   "cell_type": "markdown",
   "metadata": {},
   "source": [
    "## Purchasing Analysis (Age)"
   ]
  },
  {
   "cell_type": "markdown",
   "metadata": {},
   "source": [
    "* Bin the purchase_data data frame by age\n",
    "\n",
    "\n",
    "* Run basic calculations to obtain purchase count, avg. purchase price, avg. purchase total per person etc. in the table below\n",
    "\n",
    "\n",
    "* Create a summary data frame to hold the results\n",
    "\n",
    "\n",
    "* Optional: give the displayed data cleaner formatting\n",
    "\n",
    "\n",
    "* Display the summary data frame"
   ]
  },
  {
   "cell_type": "code",
   "execution_count": 31,
   "metadata": {},
   "outputs": [
    {
     "data": {
      "text/html": [
       "<style  type=\"text/css\" >\n",
       "</style><table id=\"T_36378e4a_9056_11e9_ae6b_74e5f9de7bdb\" ><thead>    <tr>        <th class=\"blank level0\" ></th>        <th class=\"col_heading level0 col0\" >Purchase Count</th>        <th class=\"col_heading level0 col1\" >Average Purchase Price</th>        <th class=\"col_heading level0 col2\" >Total Purchase Value</th>        <th class=\"col_heading level0 col3\" >Average Purchase Total per Person</th>    </tr></thead><tbody>\n",
       "                <tr>\n",
       "                        <th id=\"T_36378e4a_9056_11e9_ae6b_74e5f9de7bdblevel0_row0\" class=\"row_heading level0 row0\" ><10</th>\n",
       "                        <td id=\"T_36378e4a_9056_11e9_ae6b_74e5f9de7bdbrow0_col0\" class=\"data row0 col0\" >23</td>\n",
       "                        <td id=\"T_36378e4a_9056_11e9_ae6b_74e5f9de7bdbrow0_col1\" class=\"data row0 col1\" >$3.35</td>\n",
       "                        <td id=\"T_36378e4a_9056_11e9_ae6b_74e5f9de7bdbrow0_col2\" class=\"data row0 col2\" >$77.13</td>\n",
       "                        <td id=\"T_36378e4a_9056_11e9_ae6b_74e5f9de7bdbrow0_col3\" class=\"data row0 col3\" >$4.54</td>\n",
       "            </tr>\n",
       "            <tr>\n",
       "                        <th id=\"T_36378e4a_9056_11e9_ae6b_74e5f9de7bdblevel0_row1\" class=\"row_heading level0 row1\" >11-14</th>\n",
       "                        <td id=\"T_36378e4a_9056_11e9_ae6b_74e5f9de7bdbrow1_col0\" class=\"data row1 col0\" >28</td>\n",
       "                        <td id=\"T_36378e4a_9056_11e9_ae6b_74e5f9de7bdbrow1_col1\" class=\"data row1 col1\" >$2.96</td>\n",
       "                        <td id=\"T_36378e4a_9056_11e9_ae6b_74e5f9de7bdbrow1_col2\" class=\"data row1 col2\" >$82.78</td>\n",
       "                        <td id=\"T_36378e4a_9056_11e9_ae6b_74e5f9de7bdbrow1_col3\" class=\"data row1 col3\" >$3.76</td>\n",
       "            </tr>\n",
       "            <tr>\n",
       "                        <th id=\"T_36378e4a_9056_11e9_ae6b_74e5f9de7bdblevel0_row2\" class=\"row_heading level0 row2\" >15-19</th>\n",
       "                        <td id=\"T_36378e4a_9056_11e9_ae6b_74e5f9de7bdbrow2_col0\" class=\"data row2 col0\" >136</td>\n",
       "                        <td id=\"T_36378e4a_9056_11e9_ae6b_74e5f9de7bdbrow2_col1\" class=\"data row2 col1\" >$3.04</td>\n",
       "                        <td id=\"T_36378e4a_9056_11e9_ae6b_74e5f9de7bdbrow2_col2\" class=\"data row2 col2\" >$412.89</td>\n",
       "                        <td id=\"T_36378e4a_9056_11e9_ae6b_74e5f9de7bdbrow2_col3\" class=\"data row2 col3\" >$3.86</td>\n",
       "            </tr>\n",
       "            <tr>\n",
       "                        <th id=\"T_36378e4a_9056_11e9_ae6b_74e5f9de7bdblevel0_row3\" class=\"row_heading level0 row3\" >20-24</th>\n",
       "                        <td id=\"T_36378e4a_9056_11e9_ae6b_74e5f9de7bdbrow3_col0\" class=\"data row3 col0\" >365</td>\n",
       "                        <td id=\"T_36378e4a_9056_11e9_ae6b_74e5f9de7bdbrow3_col1\" class=\"data row3 col1\" >$3.05</td>\n",
       "                        <td id=\"T_36378e4a_9056_11e9_ae6b_74e5f9de7bdbrow3_col2\" class=\"data row3 col2\" >$1,114.06</td>\n",
       "                        <td id=\"T_36378e4a_9056_11e9_ae6b_74e5f9de7bdbrow3_col3\" class=\"data row3 col3\" >$4.32</td>\n",
       "            </tr>\n",
       "            <tr>\n",
       "                        <th id=\"T_36378e4a_9056_11e9_ae6b_74e5f9de7bdblevel0_row4\" class=\"row_heading level0 row4\" >25-29</th>\n",
       "                        <td id=\"T_36378e4a_9056_11e9_ae6b_74e5f9de7bdbrow4_col0\" class=\"data row4 col0\" >101</td>\n",
       "                        <td id=\"T_36378e4a_9056_11e9_ae6b_74e5f9de7bdbrow4_col1\" class=\"data row4 col1\" >$2.90</td>\n",
       "                        <td id=\"T_36378e4a_9056_11e9_ae6b_74e5f9de7bdbrow4_col2\" class=\"data row4 col2\" >$293.00</td>\n",
       "                        <td id=\"T_36378e4a_9056_11e9_ae6b_74e5f9de7bdbrow4_col3\" class=\"data row4 col3\" >$3.81</td>\n",
       "            </tr>\n",
       "            <tr>\n",
       "                        <th id=\"T_36378e4a_9056_11e9_ae6b_74e5f9de7bdblevel0_row5\" class=\"row_heading level0 row5\" >30-34</th>\n",
       "                        <td id=\"T_36378e4a_9056_11e9_ae6b_74e5f9de7bdbrow5_col0\" class=\"data row5 col0\" >73</td>\n",
       "                        <td id=\"T_36378e4a_9056_11e9_ae6b_74e5f9de7bdbrow5_col1\" class=\"data row5 col1\" >$2.93</td>\n",
       "                        <td id=\"T_36378e4a_9056_11e9_ae6b_74e5f9de7bdbrow5_col2\" class=\"data row5 col2\" >$214.00</td>\n",
       "                        <td id=\"T_36378e4a_9056_11e9_ae6b_74e5f9de7bdbrow5_col3\" class=\"data row5 col3\" >$4.12</td>\n",
       "            </tr>\n",
       "            <tr>\n",
       "                        <th id=\"T_36378e4a_9056_11e9_ae6b_74e5f9de7bdblevel0_row6\" class=\"row_heading level0 row6\" >35-39</th>\n",
       "                        <td id=\"T_36378e4a_9056_11e9_ae6b_74e5f9de7bdbrow6_col0\" class=\"data row6 col0\" >41</td>\n",
       "                        <td id=\"T_36378e4a_9056_11e9_ae6b_74e5f9de7bdbrow6_col1\" class=\"data row6 col1\" >$3.60</td>\n",
       "                        <td id=\"T_36378e4a_9056_11e9_ae6b_74e5f9de7bdbrow6_col2\" class=\"data row6 col2\" >$147.67</td>\n",
       "                        <td id=\"T_36378e4a_9056_11e9_ae6b_74e5f9de7bdbrow6_col3\" class=\"data row6 col3\" >$4.76</td>\n",
       "            </tr>\n",
       "            <tr>\n",
       "                        <th id=\"T_36378e4a_9056_11e9_ae6b_74e5f9de7bdblevel0_row7\" class=\"row_heading level0 row7\" >40+</th>\n",
       "                        <td id=\"T_36378e4a_9056_11e9_ae6b_74e5f9de7bdbrow7_col0\" class=\"data row7 col0\" >13</td>\n",
       "                        <td id=\"T_36378e4a_9056_11e9_ae6b_74e5f9de7bdbrow7_col1\" class=\"data row7 col1\" >$2.94</td>\n",
       "                        <td id=\"T_36378e4a_9056_11e9_ae6b_74e5f9de7bdbrow7_col2\" class=\"data row7 col2\" >$38.24</td>\n",
       "                        <td id=\"T_36378e4a_9056_11e9_ae6b_74e5f9de7bdbrow7_col3\" class=\"data row7 col3\" >$3.19</td>\n",
       "            </tr>\n",
       "    </tbody></table>"
      ],
      "text/plain": [
       "<pandas.io.formats.style.Styler at 0x1c98f46e438>"
      ]
     },
     "execution_count": 31,
     "metadata": {},
     "output_type": "execute_result"
    }
   ],
   "source": [
    "purchase_count_age = age_grouped[\"Purchase ID\"].count()\n",
    "\n",
    "# Obtain average purchase price by age group \n",
    "avg_purchase_price_age = age_grouped[\"Price\"].mean()\n",
    "\n",
    "# Calculate total purchase value by age group \n",
    "total_purchase_value = age_grouped[\"Price\"].sum()\n",
    "\n",
    "# Calculate the average purchase per person in the age group \n",
    "avg_purchase_per_person_age = total_purchase_value/total_count_age\n",
    "\n",
    "# Create data frame with obtained values\n",
    "age_demographics = pd.DataFrame({\"Purchase Count\": purchase_count_age,\n",
    "                                 \"Average Purchase Price\": avg_purchase_price_age,\n",
    "                                 \"Total Purchase Value\":total_purchase_value,\n",
    "                                 \"Average Purchase Total per Person\": avg_purchase_per_person_age})\n",
    "\n",
    "# Format the data frame with no index name in the corner\n",
    "age_demographics.index.name = None\n",
    "\n",
    "# Format with currency style\n",
    "age_demographics.style.format({\"Average Purchase Price\":\"${:,.2f}\",\n",
    "                               \"Total Purchase Value\":\"${:,.2f}\",\n",
    "                               \"Average Purchase Total per Person\":\"${:,.2f}\"})"
   ]
  },
  {
   "cell_type": "markdown",
   "metadata": {},
   "source": [
    "## Top Spenders"
   ]
  },
  {
   "cell_type": "markdown",
   "metadata": {},
   "source": [
    "* Run basic calculations to obtain the results in the table below\n",
    "\n",
    "\n",
    "* Create a summary data frame to hold the results\n",
    "\n",
    "\n",
    "* Sort the total purchase value column in descending order\n",
    "\n",
    "\n",
    "* Optional: give the displayed data cleaner formatting\n",
    "\n",
    "\n",
    "* Display a preview of the summary data frame\n",
    "\n"
   ]
  },
  {
   "cell_type": "code",
   "execution_count": 32,
   "metadata": {},
   "outputs": [
    {
     "data": {
      "text/html": [
       "<style  type=\"text/css\" >\n",
       "</style><table id=\"T_363e172c_9056_11e9_81c8_74e5f9de7bdb\" ><thead>    <tr>        <th class=\"blank level0\" ></th>        <th class=\"col_heading level0 col0\" >Purchase Count</th>        <th class=\"col_heading level0 col1\" >Average Purchase Price</th>        <th class=\"col_heading level0 col2\" >Total Purchase Value</th>    </tr>    <tr>        <th class=\"index_name level0\" >SN</th>        <th class=\"blank\" ></th>        <th class=\"blank\" ></th>        <th class=\"blank\" ></th>    </tr></thead><tbody>\n",
       "                <tr>\n",
       "                        <th id=\"T_363e172c_9056_11e9_81c8_74e5f9de7bdblevel0_row0\" class=\"row_heading level0 row0\" >Lisosia93</th>\n",
       "                        <td id=\"T_363e172c_9056_11e9_81c8_74e5f9de7bdbrow0_col0\" class=\"data row0 col0\" >5</td>\n",
       "                        <td id=\"T_363e172c_9056_11e9_81c8_74e5f9de7bdbrow0_col1\" class=\"data row0 col1\" >$3.79</td>\n",
       "                        <td id=\"T_363e172c_9056_11e9_81c8_74e5f9de7bdbrow0_col2\" class=\"data row0 col2\" >$18.96</td>\n",
       "            </tr>\n",
       "            <tr>\n",
       "                        <th id=\"T_363e172c_9056_11e9_81c8_74e5f9de7bdblevel0_row1\" class=\"row_heading level0 row1\" >Idastidru52</th>\n",
       "                        <td id=\"T_363e172c_9056_11e9_81c8_74e5f9de7bdbrow1_col0\" class=\"data row1 col0\" >4</td>\n",
       "                        <td id=\"T_363e172c_9056_11e9_81c8_74e5f9de7bdbrow1_col1\" class=\"data row1 col1\" >$3.86</td>\n",
       "                        <td id=\"T_363e172c_9056_11e9_81c8_74e5f9de7bdbrow1_col2\" class=\"data row1 col2\" >$15.45</td>\n",
       "            </tr>\n",
       "            <tr>\n",
       "                        <th id=\"T_363e172c_9056_11e9_81c8_74e5f9de7bdblevel0_row2\" class=\"row_heading level0 row2\" >Chamjask73</th>\n",
       "                        <td id=\"T_363e172c_9056_11e9_81c8_74e5f9de7bdbrow2_col0\" class=\"data row2 col0\" >3</td>\n",
       "                        <td id=\"T_363e172c_9056_11e9_81c8_74e5f9de7bdbrow2_col1\" class=\"data row2 col1\" >$4.61</td>\n",
       "                        <td id=\"T_363e172c_9056_11e9_81c8_74e5f9de7bdbrow2_col2\" class=\"data row2 col2\" >$13.83</td>\n",
       "            </tr>\n",
       "            <tr>\n",
       "                        <th id=\"T_363e172c_9056_11e9_81c8_74e5f9de7bdblevel0_row3\" class=\"row_heading level0 row3\" >Iral74</th>\n",
       "                        <td id=\"T_363e172c_9056_11e9_81c8_74e5f9de7bdbrow3_col0\" class=\"data row3 col0\" >4</td>\n",
       "                        <td id=\"T_363e172c_9056_11e9_81c8_74e5f9de7bdbrow3_col1\" class=\"data row3 col1\" >$3.40</td>\n",
       "                        <td id=\"T_363e172c_9056_11e9_81c8_74e5f9de7bdbrow3_col2\" class=\"data row3 col2\" >$13.62</td>\n",
       "            </tr>\n",
       "            <tr>\n",
       "                        <th id=\"T_363e172c_9056_11e9_81c8_74e5f9de7bdblevel0_row4\" class=\"row_heading level0 row4\" >Iskadarya95</th>\n",
       "                        <td id=\"T_363e172c_9056_11e9_81c8_74e5f9de7bdbrow4_col0\" class=\"data row4 col0\" >3</td>\n",
       "                        <td id=\"T_363e172c_9056_11e9_81c8_74e5f9de7bdbrow4_col1\" class=\"data row4 col1\" >$4.37</td>\n",
       "                        <td id=\"T_363e172c_9056_11e9_81c8_74e5f9de7bdbrow4_col2\" class=\"data row4 col2\" >$13.10</td>\n",
       "            </tr>\n",
       "    </tbody></table>"
      ],
      "text/plain": [
       "<pandas.io.formats.style.Styler at 0x1c98fd7d400>"
      ]
     },
     "execution_count": 32,
     "metadata": {},
     "output_type": "execute_result"
    }
   ],
   "source": [
    "spender_stats = purchase_data.groupby(\"SN\")\n",
    "\n",
    "# Count the total purchases by name\n",
    "purchase_count_spender = spender_stats[\"Purchase ID\"].count()\n",
    "\n",
    "# Calculate the average purchase by name \n",
    "avg_purchase_price_spender = spender_stats[\"Price\"].mean()\n",
    "\n",
    "# Calculate purchase total \n",
    "purchase_total_spender = spender_stats[\"Price\"].sum()\n",
    "\n",
    "# Create data frame with obtained values\n",
    "top_spenders = pd.DataFrame({\"Purchase Count\": purchase_count_spender,\n",
    "                             \"Average Purchase Price\": avg_purchase_price_spender,\n",
    "                             \"Total Purchase Value\":purchase_total_spender})\n",
    "\n",
    "# Sort in descending order to obtain top 5 spender names \n",
    "formatted_spenders = top_spenders.sort_values([\"Total Purchase Value\"], ascending=False).head()\n",
    "\n",
    "# Format with currency style\n",
    "formatted_spenders.style.format({\"Average Purchase Total\":\"${:,.2f}\",\n",
    "                                 \"Average Purchase Price\":\"${:,.2f}\", \n",
    "                                 \"Total Purchase Value\":\"${:,.2f}\"})"
   ]
  },
  {
   "cell_type": "markdown",
   "metadata": {},
   "source": [
    "## Most Popular Items"
   ]
  },
  {
   "cell_type": "markdown",
   "metadata": {},
   "source": [
    "* Retrieve the Item ID, Item Name, and Item Price columns\n",
    "\n",
    "\n",
    "* Group by Item ID and Item Name. Perform calculations to obtain purchase count, item price, and total purchase value\n",
    "\n",
    "\n",
    "* Create a summary data frame to hold the results\n",
    "\n",
    "\n",
    "* Sort the purchase count column in descending order\n",
    "\n",
    "\n",
    "* Optional: give the displayed data cleaner formatting\n",
    "\n",
    "\n",
    "* Display a preview of the summary data frame\n",
    "\n"
   ]
  },
  {
   "cell_type": "code",
   "execution_count": 33,
   "metadata": {},
   "outputs": [
    {
     "data": {
      "text/html": [
       "<style  type=\"text/css\" >\n",
       "</style><table id=\"T_36460d8a_9056_11e9_b03e_74e5f9de7bdb\" ><thead>    <tr>        <th class=\"blank\" ></th>        <th class=\"blank level0\" ></th>        <th class=\"col_heading level0 col0\" >Purchase Count</th>        <th class=\"col_heading level0 col1\" >Item Price</th>        <th class=\"col_heading level0 col2\" >Total Purchase Value</th>    </tr>    <tr>        <th class=\"index_name level0\" >Item ID</th>        <th class=\"index_name level1\" >Item Name</th>        <th class=\"blank\" ></th>        <th class=\"blank\" ></th>        <th class=\"blank\" ></th>    </tr></thead><tbody>\n",
       "                <tr>\n",
       "                        <th id=\"T_36460d8a_9056_11e9_b03e_74e5f9de7bdblevel0_row0\" class=\"row_heading level0 row0\" >178</th>\n",
       "                        <th id=\"T_36460d8a_9056_11e9_b03e_74e5f9de7bdblevel1_row0\" class=\"row_heading level1 row0\" >Oathbreaker, Last Hope of the Breaking Storm</th>\n",
       "                        <td id=\"T_36460d8a_9056_11e9_b03e_74e5f9de7bdbrow0_col0\" class=\"data row0 col0\" >12</td>\n",
       "                        <td id=\"T_36460d8a_9056_11e9_b03e_74e5f9de7bdbrow0_col1\" class=\"data row0 col1\" >$4.23</td>\n",
       "                        <td id=\"T_36460d8a_9056_11e9_b03e_74e5f9de7bdbrow0_col2\" class=\"data row0 col2\" >$50.76</td>\n",
       "            </tr>\n",
       "            <tr>\n",
       "                        <th id=\"T_36460d8a_9056_11e9_b03e_74e5f9de7bdblevel0_row1\" class=\"row_heading level0 row1\" >145</th>\n",
       "                        <th id=\"T_36460d8a_9056_11e9_b03e_74e5f9de7bdblevel1_row1\" class=\"row_heading level1 row1\" >Fiery Glass Crusader</th>\n",
       "                        <td id=\"T_36460d8a_9056_11e9_b03e_74e5f9de7bdbrow1_col0\" class=\"data row1 col0\" >9</td>\n",
       "                        <td id=\"T_36460d8a_9056_11e9_b03e_74e5f9de7bdbrow1_col1\" class=\"data row1 col1\" >$4.58</td>\n",
       "                        <td id=\"T_36460d8a_9056_11e9_b03e_74e5f9de7bdbrow1_col2\" class=\"data row1 col2\" >$41.22</td>\n",
       "            </tr>\n",
       "            <tr>\n",
       "                        <th id=\"T_36460d8a_9056_11e9_b03e_74e5f9de7bdblevel0_row2\" class=\"row_heading level0 row2\" >108</th>\n",
       "                        <th id=\"T_36460d8a_9056_11e9_b03e_74e5f9de7bdblevel1_row2\" class=\"row_heading level1 row2\" >Extraction, Quickblade Of Trembling Hands</th>\n",
       "                        <td id=\"T_36460d8a_9056_11e9_b03e_74e5f9de7bdbrow2_col0\" class=\"data row2 col0\" >9</td>\n",
       "                        <td id=\"T_36460d8a_9056_11e9_b03e_74e5f9de7bdbrow2_col1\" class=\"data row2 col1\" >$3.53</td>\n",
       "                        <td id=\"T_36460d8a_9056_11e9_b03e_74e5f9de7bdbrow2_col2\" class=\"data row2 col2\" >$31.77</td>\n",
       "            </tr>\n",
       "            <tr>\n",
       "                        <th id=\"T_36460d8a_9056_11e9_b03e_74e5f9de7bdblevel0_row3\" class=\"row_heading level0 row3\" >82</th>\n",
       "                        <th id=\"T_36460d8a_9056_11e9_b03e_74e5f9de7bdblevel1_row3\" class=\"row_heading level1 row3\" >Nirvana</th>\n",
       "                        <td id=\"T_36460d8a_9056_11e9_b03e_74e5f9de7bdbrow3_col0\" class=\"data row3 col0\" >9</td>\n",
       "                        <td id=\"T_36460d8a_9056_11e9_b03e_74e5f9de7bdbrow3_col1\" class=\"data row3 col1\" >$4.90</td>\n",
       "                        <td id=\"T_36460d8a_9056_11e9_b03e_74e5f9de7bdbrow3_col2\" class=\"data row3 col2\" >$44.10</td>\n",
       "            </tr>\n",
       "            <tr>\n",
       "                        <th id=\"T_36460d8a_9056_11e9_b03e_74e5f9de7bdblevel0_row4\" class=\"row_heading level0 row4\" >19</th>\n",
       "                        <th id=\"T_36460d8a_9056_11e9_b03e_74e5f9de7bdblevel1_row4\" class=\"row_heading level1 row4\" >Pursuit, Cudgel of Necromancy</th>\n",
       "                        <td id=\"T_36460d8a_9056_11e9_b03e_74e5f9de7bdbrow4_col0\" class=\"data row4 col0\" >8</td>\n",
       "                        <td id=\"T_36460d8a_9056_11e9_b03e_74e5f9de7bdbrow4_col1\" class=\"data row4 col1\" >$1.02</td>\n",
       "                        <td id=\"T_36460d8a_9056_11e9_b03e_74e5f9de7bdbrow4_col2\" class=\"data row4 col2\" >$8.16</td>\n",
       "            </tr>\n",
       "    </tbody></table>"
      ],
      "text/plain": [
       "<pandas.io.formats.style.Styler at 0x1c98ecfd9b0>"
      ]
     },
     "execution_count": 33,
     "metadata": {},
     "output_type": "execute_result"
    }
   ],
   "source": [
    "items = purchase_data[[\"Item ID\", \"Item Name\", \"Price\"]]\n",
    "\n",
    "# Group the item data by item id and item name \n",
    "item_stats = items.groupby([\"Item ID\",\"Item Name\"])\n",
    "\n",
    "# Count the number of times an item has been purchased \n",
    "purchase_count_item = item_stats[\"Price\"].count()\n",
    "\n",
    "# Calcualte the purchase value per item \n",
    "purchase_value = (item_stats[\"Price\"].sum()) \n",
    "\n",
    "# Find individual item price\n",
    "item_price = purchase_value/purchase_count_item\n",
    "\n",
    "# Create data frame with obtained values\n",
    "most_popular_items = pd.DataFrame({\"Purchase Count\": purchase_count_item, \n",
    "                                   \"Item Price\": item_price,\n",
    "                                   \"Total Purchase Value\":purchase_value})\n",
    "\n",
    "# Sort in descending order to obtain top spender names and provide top 5 item names\n",
    "popular_formatted = most_popular_items.sort_values([\"Purchase Count\"], ascending=False).head()\n",
    "\n",
    "# Format with currency style\n",
    "popular_formatted.style.format({\"Item Price\":\"${:,.2f}\",\n",
    "                                \"Total Purchase Value\":\"${:,.2f}\"})"
   ]
  },
  {
   "cell_type": "markdown",
   "metadata": {},
   "source": [
    "## Most Profitable Items"
   ]
  },
  {
   "cell_type": "markdown",
   "metadata": {},
   "source": [
    "* Sort the above table by total purchase value in descending order\n",
    "\n",
    "\n",
    "* Optional: give the displayed data cleaner formatting\n",
    "\n",
    "\n",
    "* Display a preview of the data frame\n",
    "\n"
   ]
  },
  {
   "cell_type": "code",
   "execution_count": 34,
   "metadata": {
    "scrolled": true
   },
   "outputs": [
    {
     "data": {
      "text/html": [
       "<style  type=\"text/css\" >\n",
       "</style><table id=\"T_364a92d2_9056_11e9_b652_74e5f9de7bdb\" ><thead>    <tr>        <th class=\"blank\" ></th>        <th class=\"blank level0\" ></th>        <th class=\"col_heading level0 col0\" >Purchase Count</th>        <th class=\"col_heading level0 col1\" >Item Price</th>        <th class=\"col_heading level0 col2\" >Total Purchase Value</th>    </tr>    <tr>        <th class=\"index_name level0\" >Item ID</th>        <th class=\"index_name level1\" >Item Name</th>        <th class=\"blank\" ></th>        <th class=\"blank\" ></th>        <th class=\"blank\" ></th>    </tr></thead><tbody>\n",
       "                <tr>\n",
       "                        <th id=\"T_364a92d2_9056_11e9_b652_74e5f9de7bdblevel0_row0\" class=\"row_heading level0 row0\" >178</th>\n",
       "                        <th id=\"T_364a92d2_9056_11e9_b652_74e5f9de7bdblevel1_row0\" class=\"row_heading level1 row0\" >Oathbreaker, Last Hope of the Breaking Storm</th>\n",
       "                        <td id=\"T_364a92d2_9056_11e9_b652_74e5f9de7bdbrow0_col0\" class=\"data row0 col0\" >12</td>\n",
       "                        <td id=\"T_364a92d2_9056_11e9_b652_74e5f9de7bdbrow0_col1\" class=\"data row0 col1\" >$4.23</td>\n",
       "                        <td id=\"T_364a92d2_9056_11e9_b652_74e5f9de7bdbrow0_col2\" class=\"data row0 col2\" >$50.76</td>\n",
       "            </tr>\n",
       "            <tr>\n",
       "                        <th id=\"T_364a92d2_9056_11e9_b652_74e5f9de7bdblevel0_row1\" class=\"row_heading level0 row1\" >82</th>\n",
       "                        <th id=\"T_364a92d2_9056_11e9_b652_74e5f9de7bdblevel1_row1\" class=\"row_heading level1 row1\" >Nirvana</th>\n",
       "                        <td id=\"T_364a92d2_9056_11e9_b652_74e5f9de7bdbrow1_col0\" class=\"data row1 col0\" >9</td>\n",
       "                        <td id=\"T_364a92d2_9056_11e9_b652_74e5f9de7bdbrow1_col1\" class=\"data row1 col1\" >$4.90</td>\n",
       "                        <td id=\"T_364a92d2_9056_11e9_b652_74e5f9de7bdbrow1_col2\" class=\"data row1 col2\" >$44.10</td>\n",
       "            </tr>\n",
       "            <tr>\n",
       "                        <th id=\"T_364a92d2_9056_11e9_b652_74e5f9de7bdblevel0_row2\" class=\"row_heading level0 row2\" >145</th>\n",
       "                        <th id=\"T_364a92d2_9056_11e9_b652_74e5f9de7bdblevel1_row2\" class=\"row_heading level1 row2\" >Fiery Glass Crusader</th>\n",
       "                        <td id=\"T_364a92d2_9056_11e9_b652_74e5f9de7bdbrow2_col0\" class=\"data row2 col0\" >9</td>\n",
       "                        <td id=\"T_364a92d2_9056_11e9_b652_74e5f9de7bdbrow2_col1\" class=\"data row2 col1\" >$4.58</td>\n",
       "                        <td id=\"T_364a92d2_9056_11e9_b652_74e5f9de7bdbrow2_col2\" class=\"data row2 col2\" >$41.22</td>\n",
       "            </tr>\n",
       "            <tr>\n",
       "                        <th id=\"T_364a92d2_9056_11e9_b652_74e5f9de7bdblevel0_row3\" class=\"row_heading level0 row3\" >92</th>\n",
       "                        <th id=\"T_364a92d2_9056_11e9_b652_74e5f9de7bdblevel1_row3\" class=\"row_heading level1 row3\" >Final Critic</th>\n",
       "                        <td id=\"T_364a92d2_9056_11e9_b652_74e5f9de7bdbrow3_col0\" class=\"data row3 col0\" >8</td>\n",
       "                        <td id=\"T_364a92d2_9056_11e9_b652_74e5f9de7bdbrow3_col1\" class=\"data row3 col1\" >$4.88</td>\n",
       "                        <td id=\"T_364a92d2_9056_11e9_b652_74e5f9de7bdbrow3_col2\" class=\"data row3 col2\" >$39.04</td>\n",
       "            </tr>\n",
       "            <tr>\n",
       "                        <th id=\"T_364a92d2_9056_11e9_b652_74e5f9de7bdblevel0_row4\" class=\"row_heading level0 row4\" >103</th>\n",
       "                        <th id=\"T_364a92d2_9056_11e9_b652_74e5f9de7bdblevel1_row4\" class=\"row_heading level1 row4\" >Singed Scalpel</th>\n",
       "                        <td id=\"T_364a92d2_9056_11e9_b652_74e5f9de7bdbrow4_col0\" class=\"data row4 col0\" >8</td>\n",
       "                        <td id=\"T_364a92d2_9056_11e9_b652_74e5f9de7bdbrow4_col1\" class=\"data row4 col1\" >$4.35</td>\n",
       "                        <td id=\"T_364a92d2_9056_11e9_b652_74e5f9de7bdbrow4_col2\" class=\"data row4 col2\" >$34.80</td>\n",
       "            </tr>\n",
       "    </tbody></table>"
      ],
      "text/plain": [
       "<pandas.io.formats.style.Styler at 0x1c98fd75080>"
      ]
     },
     "execution_count": 34,
     "metadata": {},
     "output_type": "execute_result"
    }
   ],
   "source": [
    "popular_formatted = most_popular_items.sort_values([\"Total Purchase Value\"],\n",
    "                                                   ascending=False).head()\n",
    "# Format with currency style\n",
    "popular_formatted.style.format({\"Item Price\":\"${:,.2f}\",\n",
    "                                \"Total Purchase Value\":\"${:,.2f}\"})"
   ]
  },
  {
   "cell_type": "code",
   "execution_count": null,
   "metadata": {},
   "outputs": [],
   "source": []
  }
 ],
 "metadata": {
  "anaconda-cloud": {},
  "kernel_info": {
   "name": "python3"
  },
  "kernelspec": {
   "display_name": "Python 3",
   "language": "python",
   "name": "python3"
  },
  "language_info": {
   "codemirror_mode": {
    "name": "ipython",
    "version": 3
   },
   "file_extension": ".py",
   "mimetype": "text/x-python",
   "name": "python",
   "nbconvert_exporter": "python",
   "pygments_lexer": "ipython3",
   "version": "3.7.3"
  },
  "nteract": {
   "version": "0.2.0"
  }
 },
 "nbformat": 4,
 "nbformat_minor": 2
}
